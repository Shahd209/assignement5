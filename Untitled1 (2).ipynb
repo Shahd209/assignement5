{
 "cells": [
  {
   "cell_type": "code",
   "execution_count": 5,
   "id": "6876523e-a8fb-49b9-9bb5-30d9753a0b81",
   "metadata": {
    "tags": []
   },
   "outputs": [
    {
     "name": "stdout",
     "output_type": "stream",
     "text": [
      "[[1287. 1736.]\n",
      " [1008. 1205.]]\n"
     ]
    }
   ],
   "source": [
    "import numpy as np\n",
    "\n",
    "inputs = {\n",
    "    \"r\": np.array([\n",
    "        [0, 0, 0, 0, 0, 0, 0, 0],\n",
    "        [0, 112, 125, 80, 220, 110, 0, 0],\n",
    "        [0, 200, 100, 45, 110, 175, 0, 0],\n",
    "        [0, 187, 56, 43, 86, 180, 0, 0],\n",
    "        [0, 80, 75, 45, 32, 200, 0, 0],\n",
    "        [0, 65, 45, 32, 40, 75, 0, 0],\n",
    "        [0, 0, 0, 0, 0, 0, 0, 0],\n",
    "        [0, 0, 0, 0, 0, 0, 0, 0]\n",
    "    ]),\n",
    "    \"g\": np.array([\n",
    "        [0, 0, 0, 0, 0, 0, 0, 0],\n",
    "        [0, 150, 125, 80, 20, 10, 0, 0],\n",
    "        [0, 130, 95, 80, 100, 152, 0, 0],\n",
    "        [0, 80, 100, 148, 90, 175, 0, 0],\n",
    "        [0, 100, 75, 100, 170, 180, 0, 0],\n",
    "        [0, 85, 75, 65, 232, 120, 0, 0],\n",
    "        [0, 0, 0, 0, 0, 0, 0, 0],\n",
    "        [0, 0, 0, 0, 0, 0, 0, 0]\n",
    "    ]),\n",
    "    \"b\": np.array([\n",
    "        [0, 0, 0, 0, 0, 0, 0, 0],\n",
    "        [0, 200, 125, 80, 180, 150, 0, 0],\n",
    "        [0, 90, 110, 48, 190, 152, 0, 0],\n",
    "        [0, 180, 150, 110, 170, 175, 0, 0],\n",
    "        [0, 78, 95, 70, 37, 35, 0, 0],\n",
    "        [0, 78, 150, 65, 43, 80, 0, 0],\n",
    "        [0, 0, 0, 0, 0, 0, 0, 0],\n",
    "        [0, 0, 0, 0, 0, 0, 0, 0]\n",
    "    ])\n",
    "}\n",
    "\n",
    "filters = {\n",
    "    \"r\": np.array([[1, 1, 1, 0], [1, 0, 1, 1], [-1, 1, 1, -1], [-1, 1, 0, 1]]),\n",
    "    \"g\": np.array([[0, -1, 1, 1], [1, 1, 0, -1], [1, -1, 1, 0], [0, 1, -1, 1]]),\n",
    "    \"b\": np.array([[-1, 0, 1, 1], [1, 1, -1, 0], [0, 1, 1, -1], [-1, 1, 1, 0]])\n",
    "}\n",
    "\n",
    "def apply_convolution(input_matrix, filter_matrix, stride=2, padding=1):\n",
    "    padded_input = np.pad(input_matrix, ((padding, padding), (padding, padding)), mode='constant')\n",
    "    output_size = (padded_input.shape[0] - filter_matrix.shape[0]) // stride + 1\n",
    "    output = np.zeros((output_size, output_size))\n",
    "    \n",
    "    for i in range(0, output_size):\n",
    "        for j in range(0, output_size):\n",
    "            region = padded_input[i*stride:i*stride+4, j*stride:j*stride+4]\n",
    "            output[i, j] = np.sum(region * filter_matrix)\n",
    "    \n",
    "    return output\n",
    "\n",
    "outputs = {c: apply_convolution(inputs[c], filters[c]) for c in inputs}\n",
    "\n",
    "final_output = sum(outputs.values())\n",
    "\n",
    "final_output = np.maximum(0, final_output)\n",
    "\n",
    "def max_pooling(matrix, pool_size=2, stride=2):\n",
    "    output_size = (matrix.shape[0] - pool_size) // stride + 1\n",
    "    pooled_output = np.zeros((output_size, output_size))\n",
    "    \n",
    "    for i in range(output_size):\n",
    "        for j in range(output_size):\n",
    "            pooled_output[i, j] = np.max(matrix[i*stride:i*stride+pool_size, j*stride:j*stride+pool_size])\n",
    "    \n",
    "    return pooled_output\n",
    "\n",
    "final_pooled_output = max_pooling(final_output)\n",
    "\n",
    "print(final_pooled_output)"
   ]
  },
  {
   "cell_type": "code",
   "execution_count": null,
   "id": "a36d2e77-64c6-4e16-ae9e-5b1c030f7688",
   "metadata": {},
   "outputs": [],
   "source": []
  }
 ],
 "metadata": {
  "kernelspec": {
   "display_name": "Python 3 (ipykernel)",
   "language": "python",
   "name": "python3"
  },
  "language_info": {
   "codemirror_mode": {
    "name": "ipython",
    "version": 3
   },
   "file_extension": ".py",
   "mimetype": "text/x-python",
   "name": "python",
   "nbconvert_exporter": "python",
   "pygments_lexer": "ipython3",
   "version": "3.11.5"
  }
 },
 "nbformat": 4,
 "nbformat_minor": 5
}
